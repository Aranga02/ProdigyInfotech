{
 "cells": [
  {
   "cell_type": "code",
   "execution_count": 48,
   "id": "e0cd2135",
   "metadata": {},
   "outputs": [],
   "source": [
    "import pandas as pd\n",
    "import matplotlib.pyplot as plt"
   ]
  },
  {
   "cell_type": "code",
   "execution_count": 49,
   "id": "b560b559",
   "metadata": {},
   "outputs": [],
   "source": [
    "ds = pd.read_csv(\"task1.csv\")"
   ]
  },
  {
   "cell_type": "code",
   "execution_count": 50,
   "id": "54c55129",
   "metadata": {},
   "outputs": [
    {
     "data": {
      "text/html": [
       "<div>\n",
       "<style scoped>\n",
       "    .dataframe tbody tr th:only-of-type {\n",
       "        vertical-align: middle;\n",
       "    }\n",
       "\n",
       "    .dataframe tbody tr th {\n",
       "        vertical-align: top;\n",
       "    }\n",
       "\n",
       "    .dataframe thead th {\n",
       "        text-align: right;\n",
       "    }\n",
       "</style>\n",
       "<table border=\"1\" class=\"dataframe\">\n",
       "  <thead>\n",
       "    <tr style=\"text-align: right;\">\n",
       "      <th></th>\n",
       "      <th>Unnamed: 0</th>\n",
       "      <th>City</th>\n",
       "      <th>Country</th>\n",
       "      <th>Population (2024)</th>\n",
       "      <th>Population (2023)</th>\n",
       "      <th>Growth Rate</th>\n",
       "    </tr>\n",
       "  </thead>\n",
       "  <tbody>\n",
       "    <tr>\n",
       "      <th>0</th>\n",
       "      <td>0</td>\n",
       "      <td>Tokyo</td>\n",
       "      <td>Japan</td>\n",
       "      <td>37115035</td>\n",
       "      <td>37194105</td>\n",
       "      <td>-0.0021</td>\n",
       "    </tr>\n",
       "    <tr>\n",
       "      <th>1</th>\n",
       "      <td>1</td>\n",
       "      <td>Delhi</td>\n",
       "      <td>India</td>\n",
       "      <td>33807403</td>\n",
       "      <td>32941309</td>\n",
       "      <td>0.0263</td>\n",
       "    </tr>\n",
       "    <tr>\n",
       "      <th>2</th>\n",
       "      <td>2</td>\n",
       "      <td>Shanghai</td>\n",
       "      <td>China</td>\n",
       "      <td>29867918</td>\n",
       "      <td>29210808</td>\n",
       "      <td>0.0225</td>\n",
       "    </tr>\n",
       "    <tr>\n",
       "      <th>3</th>\n",
       "      <td>3</td>\n",
       "      <td>Dhaka</td>\n",
       "      <td>Bangladesh</td>\n",
       "      <td>23935652</td>\n",
       "      <td>23209616</td>\n",
       "      <td>0.0313</td>\n",
       "    </tr>\n",
       "    <tr>\n",
       "      <th>4</th>\n",
       "      <td>4</td>\n",
       "      <td>Sao Paulo</td>\n",
       "      <td>Brazil</td>\n",
       "      <td>22806704</td>\n",
       "      <td>22619736</td>\n",
       "      <td>0.0083</td>\n",
       "    </tr>\n",
       "    <tr>\n",
       "      <th>...</th>\n",
       "      <td>...</td>\n",
       "      <td>...</td>\n",
       "      <td>...</td>\n",
       "      <td>...</td>\n",
       "      <td>...</td>\n",
       "      <td>...</td>\n",
       "    </tr>\n",
       "    <tr>\n",
       "      <th>796</th>\n",
       "      <td>796</td>\n",
       "      <td>Bhavnagar</td>\n",
       "      <td>India</td>\n",
       "      <td>751493</td>\n",
       "      <td>737128</td>\n",
       "      <td>0.0195</td>\n",
       "    </tr>\n",
       "    <tr>\n",
       "      <th>797</th>\n",
       "      <td>797</td>\n",
       "      <td>Sheffield</td>\n",
       "      <td>United Kingdom</td>\n",
       "      <td>751303</td>\n",
       "      <td>745876</td>\n",
       "      <td>0.0073</td>\n",
       "    </tr>\n",
       "    <tr>\n",
       "      <th>798</th>\n",
       "      <td>798</td>\n",
       "      <td>Huambo</td>\n",
       "      <td>Angola</td>\n",
       "      <td>751297</td>\n",
       "      <td>727641</td>\n",
       "      <td>0.0325</td>\n",
       "    </tr>\n",
       "    <tr>\n",
       "      <th>799</th>\n",
       "      <td>799</td>\n",
       "      <td>Ribeirao Preto</td>\n",
       "      <td>Brazil</td>\n",
       "      <td>750174</td>\n",
       "      <td>742115</td>\n",
       "      <td>0.0109</td>\n",
       "    </tr>\n",
       "    <tr>\n",
       "      <th>800</th>\n",
       "      <td>800</td>\n",
       "      <td>Panzhihua</td>\n",
       "      <td>China</td>\n",
       "      <td>750036</td>\n",
       "      <td>738495</td>\n",
       "      <td>0.0156</td>\n",
       "    </tr>\n",
       "  </tbody>\n",
       "</table>\n",
       "<p>801 rows × 6 columns</p>\n",
       "</div>"
      ],
      "text/plain": [
       "     Unnamed: 0            City         Country  Population (2024)  \\\n",
       "0             0           Tokyo           Japan           37115035   \n",
       "1             1           Delhi           India           33807403   \n",
       "2             2        Shanghai           China           29867918   \n",
       "3             3           Dhaka      Bangladesh           23935652   \n",
       "4             4       Sao Paulo          Brazil           22806704   \n",
       "..          ...             ...             ...                ...   \n",
       "796         796       Bhavnagar           India             751493   \n",
       "797         797       Sheffield  United Kingdom             751303   \n",
       "798         798          Huambo          Angola             751297   \n",
       "799         799  Ribeirao Preto          Brazil             750174   \n",
       "800         800       Panzhihua           China             750036   \n",
       "\n",
       "     Population (2023)  Growth Rate  \n",
       "0             37194105      -0.0021  \n",
       "1             32941309       0.0263  \n",
       "2             29210808       0.0225  \n",
       "3             23209616       0.0313  \n",
       "4             22619736       0.0083  \n",
       "..                 ...          ...  \n",
       "796             737128       0.0195  \n",
       "797             745876       0.0073  \n",
       "798             727641       0.0325  \n",
       "799             742115       0.0109  \n",
       "800             738495       0.0156  \n",
       "\n",
       "[801 rows x 6 columns]"
      ]
     },
     "execution_count": 50,
     "metadata": {},
     "output_type": "execute_result"
    }
   ],
   "source": [
    "ds"
   ]
  },
  {
   "cell_type": "code",
   "execution_count": 51,
   "id": "221bd9dc",
   "metadata": {},
   "outputs": [
    {
     "data": {
      "text/html": [
       "<div>\n",
       "<style scoped>\n",
       "    .dataframe tbody tr th:only-of-type {\n",
       "        vertical-align: middle;\n",
       "    }\n",
       "\n",
       "    .dataframe tbody tr th {\n",
       "        vertical-align: top;\n",
       "    }\n",
       "\n",
       "    .dataframe thead th {\n",
       "        text-align: right;\n",
       "    }\n",
       "</style>\n",
       "<table border=\"1\" class=\"dataframe\">\n",
       "  <thead>\n",
       "    <tr style=\"text-align: right;\">\n",
       "      <th></th>\n",
       "      <th>Unnamed: 0</th>\n",
       "      <th>City</th>\n",
       "      <th>Country</th>\n",
       "      <th>Population (2024)</th>\n",
       "      <th>Population (2023)</th>\n",
       "      <th>Growth Rate</th>\n",
       "    </tr>\n",
       "  </thead>\n",
       "  <tbody>\n",
       "    <tr>\n",
       "      <th>0</th>\n",
       "      <td>0</td>\n",
       "      <td>Tokyo</td>\n",
       "      <td>Japan</td>\n",
       "      <td>37115035</td>\n",
       "      <td>37194105</td>\n",
       "      <td>-0.0021</td>\n",
       "    </tr>\n",
       "    <tr>\n",
       "      <th>1</th>\n",
       "      <td>1</td>\n",
       "      <td>Delhi</td>\n",
       "      <td>India</td>\n",
       "      <td>33807403</td>\n",
       "      <td>32941309</td>\n",
       "      <td>0.0263</td>\n",
       "    </tr>\n",
       "    <tr>\n",
       "      <th>2</th>\n",
       "      <td>2</td>\n",
       "      <td>Shanghai</td>\n",
       "      <td>China</td>\n",
       "      <td>29867918</td>\n",
       "      <td>29210808</td>\n",
       "      <td>0.0225</td>\n",
       "    </tr>\n",
       "    <tr>\n",
       "      <th>3</th>\n",
       "      <td>3</td>\n",
       "      <td>Dhaka</td>\n",
       "      <td>Bangladesh</td>\n",
       "      <td>23935652</td>\n",
       "      <td>23209616</td>\n",
       "      <td>0.0313</td>\n",
       "    </tr>\n",
       "    <tr>\n",
       "      <th>4</th>\n",
       "      <td>4</td>\n",
       "      <td>Sao Paulo</td>\n",
       "      <td>Brazil</td>\n",
       "      <td>22806704</td>\n",
       "      <td>22619736</td>\n",
       "      <td>0.0083</td>\n",
       "    </tr>\n",
       "    <tr>\n",
       "      <th>5</th>\n",
       "      <td>5</td>\n",
       "      <td>Cairo</td>\n",
       "      <td>Egypt</td>\n",
       "      <td>22623874</td>\n",
       "      <td>22183201</td>\n",
       "      <td>0.0199</td>\n",
       "    </tr>\n",
       "    <tr>\n",
       "      <th>6</th>\n",
       "      <td>6</td>\n",
       "      <td>Mexico City</td>\n",
       "      <td>Mexico</td>\n",
       "      <td>22505315</td>\n",
       "      <td>22281442</td>\n",
       "      <td>0.0100</td>\n",
       "    </tr>\n",
       "  </tbody>\n",
       "</table>\n",
       "</div>"
      ],
      "text/plain": [
       "   Unnamed: 0         City     Country  Population (2024)  Population (2023)  \\\n",
       "0           0        Tokyo       Japan           37115035           37194105   \n",
       "1           1        Delhi       India           33807403           32941309   \n",
       "2           2     Shanghai       China           29867918           29210808   \n",
       "3           3        Dhaka  Bangladesh           23935652           23209616   \n",
       "4           4    Sao Paulo      Brazil           22806704           22619736   \n",
       "5           5        Cairo       Egypt           22623874           22183201   \n",
       "6           6  Mexico City      Mexico           22505315           22281442   \n",
       "\n",
       "   Growth Rate  \n",
       "0      -0.0021  \n",
       "1       0.0263  \n",
       "2       0.0225  \n",
       "3       0.0313  \n",
       "4       0.0083  \n",
       "5       0.0199  \n",
       "6       0.0100  "
      ]
     },
     "execution_count": 51,
     "metadata": {},
     "output_type": "execute_result"
    }
   ],
   "source": [
    "ds.head(7)"
   ]
  },
  {
   "cell_type": "code",
   "execution_count": 52,
   "id": "fed1b16c",
   "metadata": {},
   "outputs": [
    {
     "name": "stdout",
     "output_type": "stream",
     "text": [
      "<class 'pandas.core.frame.DataFrame'>\n",
      "RangeIndex: 801 entries, 0 to 800\n",
      "Data columns (total 6 columns):\n",
      " #   Column             Non-Null Count  Dtype  \n",
      "---  ------             --------------  -----  \n",
      " 0   Unnamed: 0         801 non-null    int64  \n",
      " 1   City               801 non-null    object \n",
      " 2   Country            801 non-null    object \n",
      " 3   Population (2024)  801 non-null    int64  \n",
      " 4   Population (2023)  801 non-null    int64  \n",
      " 5   Growth Rate        801 non-null    float64\n",
      "dtypes: float64(1), int64(3), object(2)\n",
      "memory usage: 37.7+ KB\n"
     ]
    }
   ],
   "source": [
    "ds.info()"
   ]
  },
  {
   "cell_type": "code",
   "execution_count": 53,
   "id": "2050a205",
   "metadata": {},
   "outputs": [
    {
     "data": {
      "text/html": [
       "<div>\n",
       "<style scoped>\n",
       "    .dataframe tbody tr th:only-of-type {\n",
       "        vertical-align: middle;\n",
       "    }\n",
       "\n",
       "    .dataframe tbody tr th {\n",
       "        vertical-align: top;\n",
       "    }\n",
       "\n",
       "    .dataframe thead th {\n",
       "        text-align: right;\n",
       "    }\n",
       "</style>\n",
       "<table border=\"1\" class=\"dataframe\">\n",
       "  <thead>\n",
       "    <tr style=\"text-align: right;\">\n",
       "      <th></th>\n",
       "      <th>Unnamed: 0</th>\n",
       "      <th>Population (2024)</th>\n",
       "      <th>Population (2023)</th>\n",
       "      <th>Growth Rate</th>\n",
       "    </tr>\n",
       "  </thead>\n",
       "  <tbody>\n",
       "    <tr>\n",
       "      <th>count</th>\n",
       "      <td>801.000000</td>\n",
       "      <td>8.010000e+02</td>\n",
       "      <td>8.010000e+02</td>\n",
       "      <td>801.000000</td>\n",
       "    </tr>\n",
       "    <tr>\n",
       "      <th>mean</th>\n",
       "      <td>400.000000</td>\n",
       "      <td>2.654327e+06</td>\n",
       "      <td>2.604461e+06</td>\n",
       "      <td>0.020051</td>\n",
       "    </tr>\n",
       "    <tr>\n",
       "      <th>std</th>\n",
       "      <td>231.373075</td>\n",
       "      <td>3.723253e+06</td>\n",
       "      <td>3.661201e+06</td>\n",
       "      <td>0.012180</td>\n",
       "    </tr>\n",
       "    <tr>\n",
       "      <th>min</th>\n",
       "      <td>0.000000</td>\n",
       "      <td>7.500360e+05</td>\n",
       "      <td>7.228360e+05</td>\n",
       "      <td>-0.024900</td>\n",
       "    </tr>\n",
       "    <tr>\n",
       "      <th>25%</th>\n",
       "      <td>200.000000</td>\n",
       "      <td>9.909310e+05</td>\n",
       "      <td>9.698040e+05</td>\n",
       "      <td>0.012200</td>\n",
       "    </tr>\n",
       "    <tr>\n",
       "      <th>50%</th>\n",
       "      <td>400.000000</td>\n",
       "      <td>1.379368e+06</td>\n",
       "      <td>1.363510e+06</td>\n",
       "      <td>0.019700</td>\n",
       "    </tr>\n",
       "    <tr>\n",
       "      <th>75%</th>\n",
       "      <td>600.000000</td>\n",
       "      <td>2.570980e+06</td>\n",
       "      <td>2.514077e+06</td>\n",
       "      <td>0.026600</td>\n",
       "    </tr>\n",
       "    <tr>\n",
       "      <th>max</th>\n",
       "      <td>800.000000</td>\n",
       "      <td>3.711504e+07</td>\n",
       "      <td>3.719410e+07</td>\n",
       "      <td>0.058200</td>\n",
       "    </tr>\n",
       "  </tbody>\n",
       "</table>\n",
       "</div>"
      ],
      "text/plain": [
       "       Unnamed: 0  Population (2024)  Population (2023)  Growth Rate\n",
       "count  801.000000       8.010000e+02       8.010000e+02   801.000000\n",
       "mean   400.000000       2.654327e+06       2.604461e+06     0.020051\n",
       "std    231.373075       3.723253e+06       3.661201e+06     0.012180\n",
       "min      0.000000       7.500360e+05       7.228360e+05    -0.024900\n",
       "25%    200.000000       9.909310e+05       9.698040e+05     0.012200\n",
       "50%    400.000000       1.379368e+06       1.363510e+06     0.019700\n",
       "75%    600.000000       2.570980e+06       2.514077e+06     0.026600\n",
       "max    800.000000       3.711504e+07       3.719410e+07     0.058200"
      ]
     },
     "execution_count": 53,
     "metadata": {},
     "output_type": "execute_result"
    }
   ],
   "source": [
    "ds.describe()"
   ]
  },
  {
   "cell_type": "code",
   "execution_count": 54,
   "id": "7b8de5f4",
   "metadata": {},
   "outputs": [
    {
     "data": {
      "text/plain": [
       "Unnamed: 0           801\n",
       "City                 797\n",
       "Country              132\n",
       "Population (2024)    801\n",
       "Population (2023)    801\n",
       "Growth Rate          376\n",
       "dtype: int64"
      ]
     },
     "execution_count": 54,
     "metadata": {},
     "output_type": "execute_result"
    }
   ],
   "source": [
    "ds.nunique()"
   ]
  },
  {
   "cell_type": "code",
   "execution_count": 55,
   "id": "c267dce2",
   "metadata": {},
   "outputs": [
    {
     "data": {
      "text/plain": [
       "Index(['Unnamed: 0', 'City', 'Country', 'Population (2024)',\n",
       "       'Population (2023)', 'Growth Rate'],\n",
       "      dtype='object')"
      ]
     },
     "execution_count": 55,
     "metadata": {},
     "output_type": "execute_result"
    }
   ],
   "source": [
    "ds.columns"
   ]
  },
  {
   "cell_type": "code",
   "execution_count": 56,
   "id": "8fdef508",
   "metadata": {},
   "outputs": [
    {
     "data": {
      "text/plain": [
       "(801, 6)"
      ]
     },
     "execution_count": 56,
     "metadata": {},
     "output_type": "execute_result"
    }
   ],
   "source": [
    "ds.shape"
   ]
  },
  {
   "cell_type": "code",
   "execution_count": 57,
   "id": "e94222a4",
   "metadata": {},
   "outputs": [
    {
     "data": {
      "text/plain": [
       "Unnamed: 0           False\n",
       "City                 False\n",
       "Country              False\n",
       "Population (2024)    False\n",
       "Population (2023)    False\n",
       "Growth Rate          False\n",
       "dtype: bool"
      ]
     },
     "execution_count": 57,
     "metadata": {},
     "output_type": "execute_result"
    }
   ],
   "source": [
    "ds.isnull().any()"
   ]
  },
  {
   "cell_type": "code",
   "execution_count": 58,
   "id": "40cc3fcc",
   "metadata": {},
   "outputs": [
    {
     "data": {
      "image/png": "[encoded data removed]",
      "text/plain": [
       "<Figure size 864x432 with 1 Axes>"
      ]
     },
     "metadata": {
      "needs_background": "light"
     },
     "output_type": "display_data"
    }
   ],
   "source": [
    "# Bar chart for categorical variable City Attribute\n",
    "plt.figure(figsize=(12, 6))\n",
    "ds['City'].value_counts().head(10).plot(kind='bar',color=\"skyblue\")\n",
    "plt.title('Top 10 Cities by Count')\n",
    "plt.xlabel('City')\n",
    "plt.ylabel('Count')\n",
    "plt.xticks(rotation=45)\n",
    "plt.show()"
   ]
  },
  {
   "cell_type": "code",
   "execution_count": 59,
   "id": "fb9ba3f2",
   "metadata": {},
   "outputs": [
    {
     "data": {
      "image/png": "[encoded data removed]",
      "text/plain": [
       "<Figure size 864x432 with 1 Axes>"
      ]
     },
     "metadata": {
      "needs_background": "light"
     },
     "output_type": "display_data"
    }
   ],
   "source": [
    "# Bar chart for categorical variable Country attribute\n",
    "\n",
    "plt.figure(figsize=(12, 6))\n",
    "ds['Country'].value_counts().head(10).plot(kind='bar',color=\"red\")\n",
    "plt.title('Top 10 Country by Count')\n",
    "plt.xlabel('Country')\n",
    "plt.ylabel('Count')\n",
    "plt.xticks(rotation=45)\n",
    "plt.show()"
   ]
  },
  {
   "cell_type": "code",
   "execution_count": 60,
   "id": "39c45758",
   "metadata": {},
   "outputs": [
    {
     "data": {
      "text/plain": [
       "<Figure size 864x432 with 0 Axes>"
      ]
     },
     "metadata": {},
     "output_type": "display_data"
    },
    {
     "data": {
      "image/png": "[encoded data removed]",
      "text/plain": [
       "<Figure size 432x288 with 1 Axes>"
      ]
     },
     "metadata": {
      "needs_background": "light"
     },
     "output_type": "display_data"
    }
   ],
   "source": [
    "# Comparison of Population (2024) and Population (2023) for Top 10 Countries\n",
    "\n",
    "# Get the top 10 countries by Population (2024)\n",
    "top_10_countries = ds.groupby('Country')['Population (2024)'].sum().nlargest(10).index\n",
    "top_10_data = ds[ds['Country'].isin(top_10_countries)]\n",
    "\n",
    "# Plot bar chart comparing Population (2024) and Population (2023) for top 10 countries\n",
    "plt.figure(figsize=(12, 6))\n",
    "top_10_data.groupby('Country')[['Population (2024)', 'Population (2023)']].sum().plot(kind='bar')\n",
    "plt.title('Comparison of Population (2024) and Population (2023) for Top 10 Countries')\n",
    "plt.xlabel('Country')\n",
    "plt.ylabel('Population')\n",
    "plt.xticks(rotation=45)\n",
    "plt.show()"
   ]
  },
  {
   "cell_type": "code",
   "execution_count": 61,
   "id": "485ed278",
   "metadata": {},
   "outputs": [
    {
     "data": {
      "image/png": "[encoded data removed]",
      "text/plain": [
       "<Figure size 720x432 with 1 Axes>"
      ]
     },
     "metadata": {
      "needs_background": "light"
     },
     "output_type": "display_data"
    }
   ],
   "source": [
    "# Histogram of Growth Rate\n",
    "\n",
    "plt.figure(figsize=(10, 6))\n",
    "plt.hist(ds['Growth Rate'], bins=30, edgecolor='black')\n",
    "plt.title('Histogram of Growth Rate')\n",
    "plt.xlabel('Growth Rate')\n",
    "plt.ylabel('Frequency')\n",
    "plt.show()"
   ]
  },
  {
   "cell_type": "code",
   "execution_count": 62,
   "id": "610e1604",
   "metadata": {},
   "outputs": [
    {
     "data": {
      "image/png": "[encoded data removed]",
      "text/plain": [
       "<Figure size 1008x576 with 1 Axes>"
      ]
     },
     "metadata": {
      "needs_background": "light"
     },
     "output_type": "display_data"
    }
   ],
   "source": [
    "# Growth Rate of Top 10 Countries by Population (2024)\n",
    "# Get the top 10 countries by Population (2024)\n",
    "top_10_countries = ds.groupby('Country')['Population (2024)'].sum().nlargest(10).index\n",
    "top_10_data = ds[ds['Country'].isin(top_10_countries)]\n",
    "\n",
    "# Plot bar chart for the Growth Rate of top 10 countries\n",
    "plt.figure(figsize=(14, 8))\n",
    "top_10_data.groupby('Country')['Growth Rate'].mean().plot(kind='bar')\n",
    "plt.title('Growth Rate of Top 10 Countries by Population (2024)')\n",
    "plt.xlabel('Country')\n",
    "plt.ylabel('Growth Rate')\n",
    "plt.xticks(rotation=45)\n",
    "plt.show()"
   ]
  },
  {
   "cell_type": "code",
   "execution_count": 63,
   "id": "e912c372",
   "metadata": {},
   "outputs": [
    {
     "data": {
      "image/png": "[encoded data removed]",
      "text/plain": [
       "<Figure size 864x432 with 1 Axes>"
      ]
     },
     "metadata": {
      "needs_background": "light"
     },
     "output_type": "display_data"
    }
   ],
   "source": [
    "# histogram for continuous variable Population (2023) attribute\n",
    "plt.figure(figsize=(12, 6))\n",
    "plt.hist(ds['Population (2023)'], bins=30,color=\"y\",edgecolor='black')\n",
    "plt.title('Histogram of Population (2023)')\n",
    "plt.xlabel('Population (2023)')\n",
    "plt.ylabel('Frequency')\n",
    "plt.show()"
   ]
  },
  {
   "cell_type": "code",
   "execution_count": 64,
   "id": "c84783c8",
   "metadata": {},
   "outputs": [
    {
     "data": {
      "image/png": "[encoded data removed]",
      "text/plain": [
       "<Figure size 864x432 with 1 Axes>"
      ]
     },
     "metadata": {
      "needs_background": "light"
     },
     "output_type": "display_data"
    }
   ],
   "source": [
    "# histogram for continuous variable Population (2024) attribute\n",
    "plt.figure(figsize=(12, 6))\n",
    "plt.hist(ds['Population (2024)'], bins=30,color=\"pink\",edgecolor='black')\n",
    "plt.title('Histogram of Population (2024)')\n",
    "plt.xlabel('Population (2024)')\n",
    "plt.ylabel('Frequency')\n",
    "plt.show()"
   ]
  },
  {
   "cell_type": "code",
   "execution_count": null,
   "id": "bb461568",
   "metadata": {},
   "outputs": [],
   "source": []
  }
 ],
 "metadata": {
  "kernelspec": {
   "display_name": "Python 3 (ipykernel)",
   "language": "python",
   "name": "python3"
  },
  "language_info": {
   "codemirror_mode": {
    "name": "ipython",
    "version": 3
   },
   "file_extension": ".py",
   "mimetype": "text/x-python",
   "name": "python",
   "nbconvert_exporter": "python",
   "pygments_lexer": "ipython3",
   "version": "3.9.12"
  }
 },
 "nbformat": 4,
 "nbformat_minor": 5
}
